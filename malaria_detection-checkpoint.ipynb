{
 "cells": [
  {
   "cell_type": "markdown",
   "metadata": {},
   "source": [
    "# Malaria Detection using blood cell images (Image classification):"
   ]
  },
  {
   "cell_type": "code",
   "execution_count": 155,
   "metadata": {},
   "outputs": [],
   "source": [
    "import cv2,os\n",
    "import numpy as np\n",
    "import csv\n",
    "import glob\n",
    "import matplotlib.pyplot as plt "
   ]
  },
  {
   "cell_type": "code",
   "execution_count": 156,
   "metadata": {},
   "outputs": [],
   "source": [
    "label = \"Parasitized\"\n",
    "dirList = glob.glob(r\"C:\\Users\\ADITYA\\OneDrive\\Desktop\\important files\\ml\\malaria\\cell_images/\"+label+\"/*.png\")"
   ]
  },
  {
   "cell_type": "code",
   "execution_count": 157,
   "metadata": {},
   "outputs": [],
   "source": [
    "#Creating a csv file to extract the features from images into this csv file\n",
    "file = open(r\"C:\\Users\\ADITYA\\OneDrive\\Desktop\\important files\\ml\\malaria\\malaria_dataset.csv\",\"a\")"
   ]
  },
  {
   "cell_type": "code",
   "execution_count": 158,
   "metadata": {},
   "outputs": [],
   "source": [
    "# Reading the Images of infected cells and writing the features into created csv file\n",
    "for img_path in dirList:\n",
    "    im = cv2.imread(img_path)\n",
    "    im = cv2.GaussianBlur(im,(5,5),2)\n",
    "    im_gray = cv2.cvtColor(im,cv2.COLOR_BGR2GRAY)\n",
    "    ret,thresh = cv2.threshold(im_gray,127,255,0)\n",
    "    contours,_ = cv2.findContours(thresh,1,2)\n",
    "    file.write(label)\n",
    "    file.write(\",\")\n",
    "    for i in range(5):\n",
    "        try:\n",
    "            area = cv2.contourArea(contours[i])\n",
    "            file.write(str(area))\n",
    "        except:\n",
    "            file.write(\"0\")\n",
    "        file.write(\",\")\n",
    "    file.write(\"\\n\")"
   ]
  },
  {
   "cell_type": "code",
   "execution_count": 159,
   "metadata": {},
   "outputs": [],
   "source": [
    "label_Uninfected = \"Uninfected\"\n",
    "dirList_Uninfected = glob.glob(r\"C:\\Users\\ADITYA\\OneDrive\\Desktop\\important files\\ml\\malaria\\cell_images/\"+label_Uninfected+\"/*.png\")"
   ]
  },
  {
   "cell_type": "code",
   "execution_count": 160,
   "metadata": {},
   "outputs": [],
   "source": [
    "# Reading the Images of Uninfected cells and writing the features into created csv file\n",
    "for img_path in dirList_Uninfected:\n",
    "    im = cv2.imread(img_path)\n",
    "    im = cv2.GaussianBlur(im,(5,5),2)\n",
    "    im_gray = cv2.cvtColor(im,cv2.COLOR_BGR2GRAY)\n",
    "    ret,thresh = cv2.threshold(im_gray,127,255,0)\n",
    "    contours,_ = cv2.findContours(thresh,1,2)\n",
    "    file.write(label_Uninfected)\n",
    "    file.write(\",\")\n",
    "    for i in range(5):\n",
    "        try:\n",
    "            area = cv2.contourArea(contours[i])\n",
    "            file.write(str(area))\n",
    "        except:\n",
    "            file.write(\"0\")\n",
    "        file.write(\",\")\n",
    "    file.write(\"\\n\")"
   ]
  },
  {
   "cell_type": "code",
   "execution_count": 161,
   "metadata": {},
   "outputs": [],
   "source": [
    "file.close()"
   ]
  },
  {
   "cell_type": "code",
   "execution_count": 162,
   "metadata": {},
   "outputs": [],
   "source": [
    "import pandas as pd\n",
    "from sklearn.model_selection import train_test_split\n",
    "from sklearn.ensemble import RandomForestClassifier, AdaBoostClassifier\n",
    "from sklearn import metrics\n",
    "import joblib"
   ]
  },
  {
   "cell_type": "code",
   "execution_count": 163,
   "metadata": {},
   "outputs": [],
   "source": [
    "# Creating a dataframe \n",
    "dataframe = pd.read_csv(r\"C:\\Users\\ADITYA\\OneDrive\\Desktop\\important files\\ml\\malaria\\malaria_dataset.csv\")"
   ]
  },
  {
   "cell_type": "code",
   "execution_count": 164,
   "metadata": {},
   "outputs": [],
   "source": [
    "dataframe.columns=['label','area_1','area_2','area_3','area_4','area_5','area_6']"
   ]
  },
  {
   "cell_type": "code",
   "execution_count": 165,
   "metadata": {},
   "outputs": [
    {
     "data": {
      "text/html": [
       "<div>\n",
       "<style scoped>\n",
       "    .dataframe tbody tr th:only-of-type {\n",
       "        vertical-align: middle;\n",
       "    }\n",
       "\n",
       "    .dataframe tbody tr th {\n",
       "        vertical-align: top;\n",
       "    }\n",
       "\n",
       "    .dataframe thead th {\n",
       "        text-align: right;\n",
       "    }\n",
       "</style>\n",
       "<table border=\"1\" class=\"dataframe\">\n",
       "  <thead>\n",
       "    <tr style=\"text-align: right;\">\n",
       "      <th></th>\n",
       "      <th>label</th>\n",
       "      <th>area_1</th>\n",
       "      <th>area_2</th>\n",
       "      <th>area_3</th>\n",
       "      <th>area_4</th>\n",
       "      <th>area_5</th>\n",
       "      <th>area_6</th>\n",
       "    </tr>\n",
       "  </thead>\n",
       "  <tbody>\n",
       "    <tr>\n",
       "      <th>0</th>\n",
       "      <td>Parasitized</td>\n",
       "      <td>163.5</td>\n",
       "      <td>18954.0</td>\n",
       "      <td>0.0</td>\n",
       "      <td>0.0</td>\n",
       "      <td>0.0</td>\n",
       "      <td>NaN</td>\n",
       "    </tr>\n",
       "    <tr>\n",
       "      <th>1</th>\n",
       "      <td>Parasitized</td>\n",
       "      <td>85.0</td>\n",
       "      <td>29.5</td>\n",
       "      <td>15201.0</td>\n",
       "      <td>0.0</td>\n",
       "      <td>0.0</td>\n",
       "      <td>NaN</td>\n",
       "    </tr>\n",
       "    <tr>\n",
       "      <th>2</th>\n",
       "      <td>Parasitized</td>\n",
       "      <td>46.0</td>\n",
       "      <td>196.0</td>\n",
       "      <td>13745.0</td>\n",
       "      <td>0.0</td>\n",
       "      <td>0.0</td>\n",
       "      <td>NaN</td>\n",
       "    </tr>\n",
       "    <tr>\n",
       "      <th>3</th>\n",
       "      <td>Parasitized</td>\n",
       "      <td>13593.0</td>\n",
       "      <td>0.0</td>\n",
       "      <td>0.0</td>\n",
       "      <td>0.0</td>\n",
       "      <td>0.0</td>\n",
       "      <td>NaN</td>\n",
       "    </tr>\n",
       "    <tr>\n",
       "      <th>4</th>\n",
       "      <td>Parasitized</td>\n",
       "      <td>43.5</td>\n",
       "      <td>106.0</td>\n",
       "      <td>16505.0</td>\n",
       "      <td>0.0</td>\n",
       "      <td>0.0</td>\n",
       "      <td>NaN</td>\n",
       "    </tr>\n",
       "  </tbody>\n",
       "</table>\n",
       "</div>"
      ],
      "text/plain": [
       "         label   area_1   area_2   area_3  area_4  area_5  area_6\n",
       "0  Parasitized    163.5  18954.0      0.0     0.0     0.0     NaN\n",
       "1  Parasitized     85.0     29.5  15201.0     0.0     0.0     NaN\n",
       "2  Parasitized     46.0    196.0  13745.0     0.0     0.0     NaN\n",
       "3  Parasitized  13593.0      0.0      0.0     0.0     0.0     NaN\n",
       "4  Parasitized     43.5    106.0  16505.0     0.0     0.0     NaN"
      ]
     },
     "execution_count": 165,
     "metadata": {},
     "output_type": "execute_result"
    }
   ],
   "source": [
    "dataframe.head()"
   ]
  },
  {
   "cell_type": "code",
   "execution_count": 166,
   "metadata": {},
   "outputs": [
    {
     "name": "stdout",
     "output_type": "stream",
     "text": [
      "27557\n",
      "27557\n"
     ]
    }
   ],
   "source": [
    "print(dataframe.area_6.isnull().sum())\n",
    "print(len(dataframe.area_6))"
   ]
  },
  {
   "cell_type": "code",
   "execution_count": 167,
   "metadata": {},
   "outputs": [],
   "source": [
    "dataframe=dataframe.drop('area_6',axis=1)"
   ]
  },
  {
   "cell_type": "code",
   "execution_count": 168,
   "metadata": {},
   "outputs": [
    {
     "name": "stdout",
     "output_type": "stream",
     "text": [
      "label     0\n",
      "area_1    0\n",
      "area_2    0\n",
      "area_3    0\n",
      "area_4    0\n",
      "area_5    0\n",
      "dtype: int64\n"
     ]
    }
   ],
   "source": [
    "print(dataframe.isnull().sum())"
   ]
  },
  {
   "cell_type": "code",
   "execution_count": 169,
   "metadata": {},
   "outputs": [
    {
     "name": "stdout",
     "output_type": "stream",
     "text": [
      "label     0\n",
      "area_1    0\n",
      "area_2    0\n",
      "area_3    0\n",
      "area_4    0\n",
      "area_5    0\n",
      "dtype: int64\n"
     ]
    }
   ],
   "source": [
    "dataframe = dataframe.dropna(how='any',axis=0) \n",
    "print(dataframe.isnull().sum())"
   ]
  },
  {
   "cell_type": "code",
   "execution_count": 170,
   "metadata": {},
   "outputs": [],
   "source": [
    "import pandas as pd\n",
    "from sklearn.model_selection import train_test_split\n",
    "from sklearn.ensemble import RandomForestClassifier\n",
    "from sklearn import metrics\n",
    "import joblib"
   ]
  },
  {
   "cell_type": "code",
   "execution_count": 171,
   "metadata": {},
   "outputs": [],
   "source": [
    "from sklearn.utils import shuffle\n",
    "dataframe = shuffle(dataframe)"
   ]
  },
  {
   "cell_type": "code",
   "execution_count": 172,
   "metadata": {},
   "outputs": [
    {
     "data": {
      "text/plain": [
       "Uninfected     11\n",
       "Parasitized     9\n",
       "Name: label, dtype: int64"
      ]
     },
     "execution_count": 172,
     "metadata": {},
     "output_type": "execute_result"
    }
   ],
   "source": [
    "dataframe.label.head(20).value_counts()\n"
   ]
  },
  {
   "cell_type": "code",
   "execution_count": 173,
   "metadata": {},
   "outputs": [],
   "source": [
    "x = dataframe.drop([\"label\"],axis=1)\n",
    "y = dataframe[\"label\"]"
   ]
  },
  {
   "cell_type": "code",
   "execution_count": 174,
   "metadata": {},
   "outputs": [],
   "source": [
    "from sklearn.model_selection import  GridSearchCV\n",
    "from sklearn.metrics import accuracy_score\n",
    "from sklearn.tree import DecisionTreeClassifier"
   ]
  },
  {
   "cell_type": "code",
   "execution_count": 175,
   "metadata": {},
   "outputs": [],
   "source": [
    "x_train, x_test, y_train, y_test = train_test_split(x,y,test_size=0.2,random_state=42)"
   ]
  },
  {
   "cell_type": "markdown",
   "metadata": {},
   "source": [
    "## DecisionTreeClassifier"
   ]
  },
  {
   "cell_type": "code",
   "execution_count": 176,
   "metadata": {},
   "outputs": [
    {
     "name": "stdout",
     "output_type": "stream",
     "text": [
      "0.9051031980040826\n",
      "0.9026083012020867\n",
      "{'criterion': 'gini', 'max_depth': 5, 'min_samples_leaf': 20, 'min_samples_split': 2}\n",
      "DecisionTreeClassifier(class_weight=None, criterion='gini', max_depth=5,\n",
      "            max_features=None, max_leaf_nodes=None,\n",
      "            min_impurity_decrease=0.0, min_impurity_split=None,\n",
      "            min_samples_leaf=20, min_samples_split=2,\n",
      "            min_weight_fraction_leaf=0.0, presort=False, random_state=None,\n",
      "            splitter='best')\n",
      "Wall time: 1min 45s\n"
     ]
    }
   ],
   "source": [
    "%%time\n",
    "parameters = {\n",
    "    \"criterion\": [\"gini\", \"entropy\"],\n",
    "    \"max_depth\": [1, 2, 3, 5, 10, None], \n",
    "    \"min_samples_split\": [2, 3, 5, 10],\n",
    "    \"min_samples_leaf\": [1, 5, 10, 20]\n",
    "}\n",
    "tree_model = GridSearchCV(DecisionTreeClassifier(), parameters, cv=5).fit(x_train, y_train)\n",
    "print(accuracy_score(y_train, tree_model.predict(x_train)))\n",
    "print(tree_model.best_score_)\n",
    "print(tree_model.best_params_)\n",
    "print(tree_model.best_estimator_)"
   ]
  },
  {
   "cell_type": "code",
   "execution_count": 177,
   "metadata": {},
   "outputs": [
    {
     "name": "stdout",
     "output_type": "stream",
     "text": [
      "train accuracy\n",
      "0.9051031980040826\n",
      "test accuracy\n",
      "0.8958635703918723\n"
     ]
    }
   ],
   "source": [
    "print('train accuracy')\n",
    "print(accuracy_score(y_train, tree_model.predict(x_train)))\n",
    "print('test accuracy')\n",
    "print(accuracy_score(y_test, tree_model.predict(x_test)))"
   ]
  },
  {
   "cell_type": "code",
   "execution_count": 178,
   "metadata": {},
   "outputs": [
    {
     "name": "stdout",
     "output_type": "stream",
     "text": [
      "[[2461  344]\n",
      " [ 230 2477]]\n",
      "####################################################\n",
      "Area under the curve is :\n",
      "0.8961984740163319\n",
      "####################################################\n",
      "              precision    recall  f1-score   support\n",
      "\n",
      " Parasitized       0.91      0.88      0.90      2805\n",
      "  Uninfected       0.88      0.92      0.90      2707\n",
      "\n",
      "   micro avg       0.90      0.90      0.90      5512\n",
      "   macro avg       0.90      0.90      0.90      5512\n",
      "weighted avg       0.90      0.90      0.90      5512\n",
      "\n"
     ]
    }
   ],
   "source": [
    "cm = metrics.confusion_matrix(y_test, tree_model.predict(x_test))\n",
    "print(cm)\n",
    "k=pd.factorize(y_test)\n",
    "l=pd.factorize(tree_model.predict(x_test))\n",
    "from sklearn.metrics import roc_curve, auc\n",
    "false_positive_rate, true_positive_rate, thresholds = roc_curve(pd.DataFrame(list(k)[0]),pd.DataFrame(list(l)[0]))\n",
    "roc_auc = auc(false_positive_rate, true_positive_rate)\n",
    "print('####################################################')\n",
    "print('Area under the curve is :')\n",
    "print( roc_auc)\n",
    "print('####################################################')\n",
    "print(metrics.classification_report(y_test, tree_model.predict(x_test)))"
   ]
  },
  {
   "cell_type": "markdown",
   "metadata": {},
   "source": [
    "### ROC curve"
   ]
  },
  {
   "cell_type": "code",
   "execution_count": 179,
   "metadata": {},
   "outputs": [],
   "source": [
    "import scikitplot as skplt\n",
    "import matplotlib.pyplot as plt\n",
    "\n",
    "#skplt.metrics.plot_roc_curve(pd.DataFrame(list(k)[0]),pd.DataFrame(tree_model.predict_proba(x_test)))\n",
    "#plt.show()\n"
   ]
  },
  {
   "cell_type": "markdown",
   "metadata": {},
   "source": [
    "## Random forest"
   ]
  },
  {
   "cell_type": "code",
   "execution_count": 180,
   "metadata": {},
   "outputs": [
    {
     "name": "stdout",
     "output_type": "stream",
     "text": [
      "0.9071898389657519\n",
      "0.9035155364028125\n",
      "{'criterion': 'gini', 'max_depth': 10, 'max_features': 'auto', 'min_samples_leaf': 10, 'min_samples_split': 5, 'n_estimators': 15}\n",
      "RandomForestClassifier(bootstrap=True, class_weight=None, criterion='gini',\n",
      "            max_depth=10, max_features='auto', max_leaf_nodes=None,\n",
      "            min_impurity_decrease=0.0, min_impurity_split=None,\n",
      "            min_samples_leaf=10, min_samples_split=5,\n",
      "            min_weight_fraction_leaf=0.0, n_estimators=15, n_jobs=None,\n",
      "            oob_score=False, random_state=None, verbose=0,\n",
      "            warm_start=False)\n",
      "Wall time: 22min 18s\n"
     ]
    }
   ],
   "source": [
    "%%time\n",
    "parameters = {\n",
    "    \"n_estimators\": [2, 4, 5, 8, 10, 15], \n",
    "    \"criterion\": [\"gini\", \"entropy\"],\n",
    "    \"max_features\": [\"auto\", \"log2\"], \n",
    "    \"max_depth\": [1, 2, 3, 5, 10], \n",
    "    \"min_samples_split\": [2, 3, 5, 10],\n",
    "    \"min_samples_leaf\": [1, 5, 10, 20]\n",
    "}\n",
    "\n",
    "forest_model = GridSearchCV(RandomForestClassifier(), parameters, cv=5).fit(x_train, y_train)\n",
    "print(accuracy_score(y_train, forest_model.predict(x_train)))\n",
    "print(forest_model.best_score_)\n",
    "# print(accuracy_score(y_val, forest_model.predict(X_val)))\n",
    "print(forest_model.best_params_)\n",
    "print(forest_model.best_estimator_)"
   ]
  },
  {
   "cell_type": "code",
   "execution_count": 181,
   "metadata": {},
   "outputs": [
    {
     "name": "stdout",
     "output_type": "stream",
     "text": [
      "train accuracy\n",
      "0.9071898389657519\n",
      "test accuracy\n",
      "0.8964078374455733\n"
     ]
    }
   ],
   "source": [
    "print('train accuracy')\n",
    "print(accuracy_score(y_train, forest_model.predict(x_train)))\n",
    "print('test accuracy')\n",
    "print(accuracy_score(y_test, forest_model.predict(x_test)))"
   ]
  },
  {
   "cell_type": "code",
   "execution_count": 182,
   "metadata": {},
   "outputs": [
    {
     "name": "stdout",
     "output_type": "stream",
     "text": [
      "[[2464  341]\n",
      " [ 230 2477]]\n",
      "####################################################\n",
      "Area under the curve is :\n",
      "0.8967332333746206\n",
      "####################################################\n",
      "              precision    recall  f1-score   support\n",
      "\n",
      " Parasitized       0.91      0.88      0.90      2805\n",
      "  Uninfected       0.88      0.92      0.90      2707\n",
      "\n",
      "   micro avg       0.90      0.90      0.90      5512\n",
      "   macro avg       0.90      0.90      0.90      5512\n",
      "weighted avg       0.90      0.90      0.90      5512\n",
      "\n"
     ]
    }
   ],
   "source": [
    "cm = metrics.confusion_matrix(y_test, forest_model.predict(x_test))\n",
    "print(cm)\n",
    "k=pd.factorize(y_test)\n",
    "l=pd.factorize(forest_model.predict(x_test))\n",
    "from sklearn.metrics import roc_curve, auc\n",
    "false_positive_rate, true_positive_rate, thresholds = roc_curve(pd.DataFrame(list(k)[0]),pd.DataFrame(list(l)[0]))\n",
    "roc_auc = auc(false_positive_rate, true_positive_rate)\n",
    "print('####################################################')\n",
    "print('Area under the curve is :')\n",
    "print( roc_auc)\n",
    "print('####################################################')\n",
    "print(metrics.classification_report(y_test, forest_model.predict(x_test)))"
   ]
  },
  {
   "cell_type": "markdown",
   "metadata": {},
   "source": [
    "## LightGBM"
   ]
  },
  {
   "cell_type": "code",
   "execution_count": 183,
   "metadata": {},
   "outputs": [
    {
     "name": "stdout",
     "output_type": "stream",
     "text": [
      "0.9046042186436833\n",
      "0.9038330687230665\n",
      "{'learning_rate': 0.02, 'max_depth': 5, 'min_data_in_leaf': 40, 'n_estimators': 100, 'num_leaves': 31}\n",
      "LGBMClassifier(boosting_type='gbdt', class_weight=None, colsample_bytree=1.0,\n",
      "        importance_type='split', learning_rate=0.02, max_depth=5,\n",
      "        min_child_samples=20, min_child_weight=0.001, min_data_in_leaf=40,\n",
      "        min_split_gain=0.0, n_estimators=100, n_jobs=-1, num_leaves=31,\n",
      "        objective=None, random_state=None, reg_alpha=0.0, reg_lambda=0.0,\n",
      "        silent=True, subsample=1.0, subsample_for_bin=200000,\n",
      "        subsample_freq=0)\n",
      "Wall time: 8min 49s\n"
     ]
    }
   ],
   "source": [
    "%%time\n",
    "import lightgbm as lgbm\n",
    "parameters = {'n_estimators': [5, 50, 100],\n",
    "              'learning_rate': np.linspace(0.02,0.16,4),\n",
    "              'num_leaves': [31, 61],\n",
    "              'min_data_in_leaf': [20, 30, 40],\n",
    "              'max_depth': range(3,8)\n",
    "}\n",
    "\n",
    "lgbm_model = GridSearchCV(lgbm.LGBMClassifier(), parameters, cv=5).fit(x_train, y_train)\n",
    "print(accuracy_score(y_train, lgbm_model.predict(x_train)))\n",
    "print(lgbm_model.best_score_)\n",
    "# print(accuracy_score(y_val, lgbm_model.predict(X_val)))\n",
    "print(lgbm_model.best_params_)\n",
    "print(lgbm_model.best_estimator_)"
   ]
  },
  {
   "cell_type": "code",
   "execution_count": 184,
   "metadata": {},
   "outputs": [
    {
     "name": "stdout",
     "output_type": "stream",
     "text": [
      "train accuracy\n",
      "0.9046042186436833\n",
      "test accuracy\n",
      "0.8980406386066764\n"
     ]
    }
   ],
   "source": [
    "print('train accuracy')\n",
    "print(accuracy_score(y_train, lgbm_model.predict(x_train)))\n",
    "print('test accuracy')\n",
    "print(accuracy_score(y_test, lgbm_model.predict(x_test)))"
   ]
  },
  {
   "cell_type": "code",
   "execution_count": 185,
   "metadata": {},
   "outputs": [
    {
     "name": "stdout",
     "output_type": "stream",
     "text": [
      "[[2476  329]\n",
      " [ 233 2474]]\n",
      "####################################################\n",
      "Area under the curve is :\n",
      "0.8983181518569077\n",
      "####################################################\n",
      "              precision    recall  f1-score   support\n",
      "\n",
      " Parasitized       0.91      0.88      0.90      2805\n",
      "  Uninfected       0.88      0.91      0.90      2707\n",
      "\n",
      "   micro avg       0.90      0.90      0.90      5512\n",
      "   macro avg       0.90      0.90      0.90      5512\n",
      "weighted avg       0.90      0.90      0.90      5512\n",
      "\n"
     ]
    }
   ],
   "source": [
    "cm = metrics.confusion_matrix(y_test, lgbm_model.predict(x_test))\n",
    "print(cm)\n",
    "k=pd.factorize(y_test)\n",
    "l=pd.factorize(lgbm_model.predict(x_test))\n",
    "from sklearn.metrics import roc_curve, auc\n",
    "false_positive_rate, true_positive_rate, thresholds = roc_curve(pd.DataFrame(list(k)[0]),pd.DataFrame(list(l)[0]))\n",
    "roc_auc = auc(false_positive_rate, true_positive_rate)\n",
    "print('####################################################')\n",
    "print('Area under the curve is :')\n",
    "print( roc_auc)\n",
    "print('####################################################')\n",
    "print(metrics.classification_report(y_test, lgbm_model.predict(x_test)))"
   ]
  },
  {
   "cell_type": "markdown",
   "metadata": {},
   "source": [
    "## Support Vector Machine"
   ]
  },
  {
   "cell_type": "code",
   "execution_count": 187,
   "metadata": {},
   "outputs": [
    {
     "name": "stdout",
     "output_type": "stream",
     "text": [
      "Wall time: 42min 18s\n"
     ]
    },
    {
     "data": {
      "text/plain": [
       "SVC(C=1, cache_size=200, class_weight=None, coef0=0.0,\n",
       "  decision_function_shape='ovr', degree=3, gamma='auto', kernel='linear',\n",
       "  max_iter=-1, probability=False, random_state=None, shrinking=True,\n",
       "  tol=0.001, verbose=False)"
      ]
     },
     "execution_count": 187,
     "metadata": {},
     "output_type": "execute_result"
    }
   ],
   "source": [
    "%%time\n",
    "from sklearn.svm import SVC\n",
    "svc = SVC(kernel='linear', C=1,gamma='auto')\n",
    "svc.fit(x_train, y_train)"
   ]
  },
  {
   "cell_type": "code",
   "execution_count": 189,
   "metadata": {},
   "outputs": [
    {
     "name": "stdout",
     "output_type": "stream",
     "text": [
      "              precision    recall  f1-score   support\n",
      "\n",
      " Parasitized       0.87      0.91      0.89      2669\n",
      "  Uninfected       0.91      0.87      0.89      2843\n",
      "\n",
      "   micro avg       0.89      0.89      0.89      5512\n",
      "   macro avg       0.89      0.89      0.89      5512\n",
      "weighted avg       0.89      0.89      0.89      5512\n",
      "\n",
      "0.8896952104499274\n"
     ]
    }
   ],
   "source": [
    "predictions = svc.predict(x_test)\n",
    "print(metrics.classification_report(predictions,y_test))\n",
    "print(svc.score(x_test,y_test))"
   ]
  },
  {
   "cell_type": "code",
   "execution_count": null,
   "metadata": {},
   "outputs": [],
   "source": [
    "SVC"
   ]
  }
 ],
 "metadata": {
  "kernelspec": {
   "display_name": "Python 3",
   "language": "python",
   "name": "python3"
  },
  "language_info": {
   "codemirror_mode": {
    "name": "ipython",
    "version": 3
   },
   "file_extension": ".py",
   "mimetype": "text/x-python",
   "name": "python",
   "nbconvert_exporter": "python",
   "pygments_lexer": "ipython3",
   "version": "3.7.1"
  }
 },
 "nbformat": 4,
 "nbformat_minor": 2
}
